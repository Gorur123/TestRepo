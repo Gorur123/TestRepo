{
 "cells": [
  {
   "cell_type": "markdown",
   "id": "a2e36559-6db3-4a38-8426-590a84e29158",
   "metadata": {},
   "source": [
    "# Data Science Tools and Ecosystem"
   ]
  },
  {
   "cell_type": "markdown",
   "id": "cce1728c-c25d-4be0-961a-832ce8c055a5",
   "metadata": {},
   "source": [
    "#### In this notebook, Data Science Tools and Ecosystem are summarized.\n",
    "\n",
    "##### **Objectives:**\n",
    "* popular languages that Data Scientists\n",
    "* commonly used libraries used by Data Scientists\n",
    "* Expression\n",
    "\n"
   ]
  },
  {
   "cell_type": "markdown",
   "id": "ed40adda-3c2d-46bd-9dc1-2c5c822b15a1",
   "metadata": {
    "tags": []
   },
   "source": [
    "Some of the popular languages that Data Scientists use are:\n",
    "1. R\n",
    "2. Python\n",
    "3. Julia"
   ]
  },
  {
   "cell_type": "markdown",
   "id": "3a2766e4-ccb0-49d7-b3ad-ef3877f415b8",
   "metadata": {
    "tags": []
   },
   "source": [
    "Some of the commonly used libraries used by Data Scientists include:\n",
    "1. Pandas\n",
    "2. Numpy\n",
    "3. TensorFlow"
   ]
  },
  {
   "cell_type": "markdown",
   "id": "71ad27ee-53bf-434c-8a1f-0c59624cd645",
   "metadata": {},
   "source": [
    "|Data science Tools|\n",
    "|------------------|\n",
    "|Jupiter|\n",
    "|Rstudio|\n",
    "|IBM watson|"
   ]
  },
  {
   "cell_type": "markdown",
   "id": "38bebea8-0a19-47fb-9382-76afb926955c",
   "metadata": {},
   "source": [
    "### Below are a few examples of evaluating arithmetic expressions in Python\n"
   ]
  },
  {
   "cell_type": "code",
   "execution_count": 3,
   "id": "8bdb8f3a-12f9-43bc-b0e4-47edccdc2b2f",
   "metadata": {
    "tags": []
   },
   "outputs": [
    {
     "data": {
      "text/plain": [
       "17"
      ]
     },
     "execution_count": 3,
     "metadata": {},
     "output_type": "execute_result"
    }
   ],
   "source": [
    "#This a simple arithmetic expression to mutiply then add integers\n",
    "(3*4)+5"
   ]
  },
  {
   "cell_type": "code",
   "execution_count": 4,
   "id": "fbefcbb3-efb1-4259-b80e-0c606e4d30ce",
   "metadata": {
    "tags": []
   },
   "outputs": [
    {
     "name": "stdin",
     "output_type": "stream",
     "text": [
      "Enter time in minutes 200\n"
     ]
    },
    {
     "name": "stdout",
     "output_type": "stream",
     "text": [
      "Hours= 3\n",
      "Minutes= 20\n"
     ]
    }
   ],
   "source": [
    " #This will convert 200 minutes to hours by diving by 60\n",
    "min=int(input(\"Enter time in minutes\"))\n",
    "h=min//60\n",
    "m=min%60\n",
    "print(\"Hours=\",h)\n",
    "print(\"Minutes=\",m)\n",
    "    "
   ]
  },
  {
   "cell_type": "markdown",
   "id": "eae9ee77-d6c1-42ac-90d6-8007417650fe",
   "metadata": {},
   "source": [
    "## Author\n",
    "Dinesh Gorur"
   ]
  },
  {
   "cell_type": "code",
   "execution_count": null,
   "id": "251ba076-ba8b-4a3c-a28d-ef0e68acc1df",
   "metadata": {},
   "outputs": [],
   "source": []
  }
 ],
 "metadata": {
  "kernelspec": {
   "display_name": "Python 3 (ipykernel)",
   "language": "python",
   "name": "python3"
  },
  "language_info": {
   "codemirror_mode": {
    "name": "ipython",
    "version": 3
   },
   "file_extension": ".py",
   "mimetype": "text/x-python",
   "name": "python",
   "nbconvert_exporter": "python",
   "pygments_lexer": "ipython3",
   "version": "3.11.4"
  }
 },
 "nbformat": 4,
 "nbformat_minor": 5
}
